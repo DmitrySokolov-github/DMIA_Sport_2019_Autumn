version https://git-lfs.github.com/spec/v1
oid sha256:73b8c14f562a8c60818db136283220a9cf01a759dcef224a96b9c509818166ac
size 29125
