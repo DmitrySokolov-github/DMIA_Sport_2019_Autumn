version https://git-lfs.github.com/spec/v1
oid sha256:0f2d2fa64b615d4f33d4c878310efaf1f2f8ef0b6c3cd444993633b9df40811e
size 1878408
