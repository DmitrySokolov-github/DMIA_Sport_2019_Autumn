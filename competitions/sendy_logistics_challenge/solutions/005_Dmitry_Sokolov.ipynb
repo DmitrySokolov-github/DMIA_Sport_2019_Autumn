version https://git-lfs.github.com/spec/v1
oid sha256:9192be5139fcce3177647a9aa8bc5689b0fe3223168932efa2a8dba8e71e84fe
size 1878412
